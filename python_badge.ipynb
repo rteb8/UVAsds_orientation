{
 "cells": [
  {
   "cell_type": "code",
   "execution_count": 3,
   "metadata": {},
   "outputs": [
    {
     "name": "stdout",
     "output_type": "stream",
     "text": [
      "Project Euler Problem #1:  233168\n"
     ]
    }
   ],
   "source": [
    "n = 0\n",
    "for i in range(1, 1000):\n",
    "    if not i % 5 or not i % 3:\n",
    "        n = n + i\n",
    "print(\"Project Euler Problem #1: \",n)"
   ]
  },
  {
   "cell_type": "code",
   "execution_count": 4,
   "metadata": {},
   "outputs": [
    {
     "name": "stdout",
     "output_type": "stream",
     "text": [
      "[8, 34, 144, 610, 2584, 10946, 46368, 196418, 832040, 3524578, 14930352, 63245986, 267914296]\n",
      "Project Euler Problem #2:  350704364\n"
     ]
    }
   ],
   "source": [
    "i = 1\n",
    "i2 = 2\n",
    "sum = 0\n",
    "even_list = []\n",
    "ans = 0\n",
    "\n",
    "while sum < 400000000:\n",
    "    sum = i + i2\n",
    "    i = i2\n",
    "    i2 = sum\n",
    "    if not sum % 2:\n",
    "        even_list.append(sum)\n",
    "\n",
    "print(even_list)\n",
    "\n",
    "for i in even_list:\n",
    "    ans += i\n",
    "\n",
    "print(\"Project Euler Problem #2: \",ans)\n"
   ]
  },
  {
   "cell_type": "code",
   "execution_count": 12,
   "metadata": {},
   "outputs": [
    {
     "name": "stdout",
     "output_type": "stream",
     "text": [
      "Project Euler Problem #3:  6857\n"
     ]
    }
   ],
   "source": [
    "\n",
    "\n",
    "def factors(n):\n",
    "    factors = [] \n",
    "    for i in range(2, int(n**0.5)+1):\n",
    "        if n % i == 0 and is_prime(i):\n",
    "            factors.append(i)\n",
    "    \n",
    "    ans = biggest_pfactor(factors)\n",
    "    return ans\n",
    "\n",
    "def is_prime(n):\n",
    "    if n <= 1:\n",
    "        return False\n",
    "    for i in range(2, int(n**0.5)+1):\n",
    "        if n % i == 0:\n",
    "            return False\n",
    "    return True\n",
    "\n",
    "def biggest_pfactor(array):\n",
    "    bpf = 0\n",
    "    for i in array:\n",
    "        if i > bpf:\n",
    "            bpf = i\n",
    "    return bpf\n",
    "\n",
    "print(\"Project Euler Problem #3: \", factors(600851475143))"
   ]
  }
 ],
 "metadata": {
  "kernelspec": {
   "display_name": "uva_orientation",
   "language": "python",
   "name": "python3"
  },
  "language_info": {
   "codemirror_mode": {
    "name": "ipython",
    "version": 3
   },
   "file_extension": ".py",
   "mimetype": "text/x-python",
   "name": "python",
   "nbconvert_exporter": "python",
   "pygments_lexer": "ipython3",
   "version": "3.11.3"
  },
  "orig_nbformat": 4
 },
 "nbformat": 4,
 "nbformat_minor": 2
}
